{
 "cells": [
  {
   "cell_type": "code",
   "execution_count": 98,
   "id": "9179c1f8",
   "metadata": {},
   "outputs": [
    {
     "data": {
      "text/html": [
       "<style>\n",
       "div.input {\n",
       "    display:none;\n",
       "}\n",
       "</style>\n"
      ],
      "text/plain": [
       "<IPython.core.display.HTML object>"
      ]
     },
     "metadata": {},
     "output_type": "display_data"
    }
   ],
   "source": [
    "%%html\n",
    "<style>\n",
    "div.input {\n",
    "    display:none;\n",
    "}\n",
    "</style>"
   ]
  },
  {
   "cell_type": "code",
   "execution_count": 99,
   "id": "8a5a91bc",
   "metadata": {},
   "outputs": [],
   "source": [
    "import pandas as pd\n",
    "import numpy as np\n",
    "import seaborn as sns\n",
    "import matplotlib.pyplot as plt\n",
    "from sklearn.model_selection import train_test_split\n",
    "from sklearn.neighbors import KNeighborsClassifier\n",
    "from sklearn.metrics import accuracy_score, confusion_matrix\n",
    "from timeit import default_timer as timer\n",
    "from datetime import timedelta\n",
    "import ipywidgets as widgets\n",
    "import warnings\n",
    "warnings.filterwarnings('ignore')\n",
    "%matplotlib inline\n",
    "\n",
    "percent = '{:.2%}'\n",
    "rate = '{0:.0f}'"
   ]
  },
  {
   "cell_type": "markdown",
   "id": "980de7f0",
   "metadata": {},
   "source": [
    "# PENG Model for Penguin Species Identification\n",
    "This product applies machine learning methodologies to accurately predict the species of a penguin given its taxonomy and location. A machine learning model is trained on historical data using the KNN algorithm and assessed for accuracy and processing speed. The model is then applied to predict the species of penguin based upon user input.\n",
    "\n",
    "\n",
    "# Data Loading\n",
    "A dataframe is created by loading in the data from the .csv file. The dataframe is then previewed to confirm the data was loaded successfully"
   ]
  },
  {
   "cell_type": "code",
   "execution_count": 100,
   "id": "a4f15eae",
   "metadata": {
    "scrolled": true
   },
   "outputs": [
    {
     "data": {
      "text/html": [
       "<div>\n",
       "<style scoped>\n",
       "    .dataframe tbody tr th:only-of-type {\n",
       "        vertical-align: middle;\n",
       "    }\n",
       "\n",
       "    .dataframe tbody tr th {\n",
       "        vertical-align: top;\n",
       "    }\n",
       "\n",
       "    .dataframe thead th {\n",
       "        text-align: right;\n",
       "    }\n",
       "</style>\n",
       "<table border=\"1\" class=\"dataframe\">\n",
       "  <thead>\n",
       "    <tr style=\"text-align: right;\">\n",
       "      <th></th>\n",
       "      <th>species</th>\n",
       "      <th>island</th>\n",
       "      <th>bill_length_mm</th>\n",
       "      <th>bill_depth_mm</th>\n",
       "      <th>flipper_length_mm</th>\n",
       "      <th>body_mass_g</th>\n",
       "      <th>sex</th>\n",
       "    </tr>\n",
       "  </thead>\n",
       "  <tbody>\n",
       "    <tr>\n",
       "      <th>0</th>\n",
       "      <td>Adelie</td>\n",
       "      <td>Torgersen</td>\n",
       "      <td>39.1</td>\n",
       "      <td>18.7</td>\n",
       "      <td>181.0</td>\n",
       "      <td>3750.0</td>\n",
       "      <td>male</td>\n",
       "    </tr>\n",
       "    <tr>\n",
       "      <th>1</th>\n",
       "      <td>Adelie</td>\n",
       "      <td>Torgersen</td>\n",
       "      <td>39.5</td>\n",
       "      <td>17.4</td>\n",
       "      <td>186.0</td>\n",
       "      <td>3800.0</td>\n",
       "      <td>female</td>\n",
       "    </tr>\n",
       "    <tr>\n",
       "      <th>2</th>\n",
       "      <td>Adelie</td>\n",
       "      <td>Torgersen</td>\n",
       "      <td>40.3</td>\n",
       "      <td>18.0</td>\n",
       "      <td>195.0</td>\n",
       "      <td>3250.0</td>\n",
       "      <td>female</td>\n",
       "    </tr>\n",
       "    <tr>\n",
       "      <th>3</th>\n",
       "      <td>Adelie</td>\n",
       "      <td>Torgersen</td>\n",
       "      <td>NaN</td>\n",
       "      <td>NaN</td>\n",
       "      <td>NaN</td>\n",
       "      <td>NaN</td>\n",
       "      <td>NaN</td>\n",
       "    </tr>\n",
       "    <tr>\n",
       "      <th>4</th>\n",
       "      <td>Adelie</td>\n",
       "      <td>Torgersen</td>\n",
       "      <td>36.7</td>\n",
       "      <td>19.3</td>\n",
       "      <td>193.0</td>\n",
       "      <td>3450.0</td>\n",
       "      <td>female</td>\n",
       "    </tr>\n",
       "  </tbody>\n",
       "</table>\n",
       "</div>"
      ],
      "text/plain": [
       "  species     island  bill_length_mm  bill_depth_mm  flipper_length_mm  \\\n",
       "0  Adelie  Torgersen            39.1           18.7              181.0   \n",
       "1  Adelie  Torgersen            39.5           17.4              186.0   \n",
       "2  Adelie  Torgersen            40.3           18.0              195.0   \n",
       "3  Adelie  Torgersen             NaN            NaN                NaN   \n",
       "4  Adelie  Torgersen            36.7           19.3              193.0   \n",
       "\n",
       "   body_mass_g     sex  \n",
       "0       3750.0    male  \n",
       "1       3800.0  female  \n",
       "2       3250.0  female  \n",
       "3          NaN     NaN  \n",
       "4       3450.0  female  "
      ]
     },
     "execution_count": 100,
     "metadata": {},
     "output_type": "execute_result"
    }
   ],
   "source": [
    "# create dataframe from csv\n",
    "df = pd.read_csv(\"C:/Users/payer/win_code/capstone/penguins.csv\")\n",
    "# preview data\n",
    "df.head()"
   ]
  },
  {
   "cell_type": "markdown",
   "id": "5db87962",
   "metadata": {},
   "source": [
    "# Data Pre-Processing\n",
    "In this step, the data is prepared for the machine learning model. This includes determining which data gets included/excluded, and/or transformed if needed."
   ]
  },
  {
   "cell_type": "markdown",
   "id": "2561f63f",
   "metadata": {},
   "source": [
    "### Cleaning\n",
    "As seen in the preview of the data, there are null/NaN values which will cause trouble in our machine learning model. Therefore, these records are excluded from the dataset."
   ]
  },
  {
   "cell_type": "code",
   "execution_count": 101,
   "id": "83a27b0a",
   "metadata": {},
   "outputs": [],
   "source": [
    "df_cleaned = df.dropna()"
   ]
  },
  {
   "cell_type": "markdown",
   "id": "82f221e8",
   "metadata": {},
   "source": [
    "### Encoding\n",
    "Machine learning models work best with numerical data as opposed categorical data. Hence, we will be encoding all of our categorical data, in essence converting a category to a numerical value for more accurate results with the model. Each unique choice/category is encoded with its own value.\n",
    "\n",
    "We will encode the 3 categorical attributes of the dataset: Island, Sex, and Species, as seen in the preview below."
   ]
  },
  {
   "cell_type": "code",
   "execution_count": 102,
   "id": "cb3cc72b",
   "metadata": {},
   "outputs": [
    {
     "data": {
      "text/html": [
       "<div>\n",
       "<style scoped>\n",
       "    .dataframe tbody tr th:only-of-type {\n",
       "        vertical-align: middle;\n",
       "    }\n",
       "\n",
       "    .dataframe tbody tr th {\n",
       "        vertical-align: top;\n",
       "    }\n",
       "\n",
       "    .dataframe thead th {\n",
       "        text-align: right;\n",
       "    }\n",
       "</style>\n",
       "<table border=\"1\" class=\"dataframe\">\n",
       "  <thead>\n",
       "    <tr style=\"text-align: right;\">\n",
       "      <th></th>\n",
       "      <th>species</th>\n",
       "      <th>bill_length_mm</th>\n",
       "      <th>bill_depth_mm</th>\n",
       "      <th>flipper_length_mm</th>\n",
       "      <th>body_mass_g</th>\n",
       "      <th>island_Biscoe</th>\n",
       "      <th>island_Dream</th>\n",
       "      <th>island_Torgersen</th>\n",
       "      <th>sex_female</th>\n",
       "      <th>sex_male</th>\n",
       "    </tr>\n",
       "  </thead>\n",
       "  <tbody>\n",
       "    <tr>\n",
       "      <th>0</th>\n",
       "      <td>0</td>\n",
       "      <td>39.1</td>\n",
       "      <td>18.7</td>\n",
       "      <td>181.0</td>\n",
       "      <td>3750.0</td>\n",
       "      <td>0</td>\n",
       "      <td>0</td>\n",
       "      <td>1</td>\n",
       "      <td>0</td>\n",
       "      <td>1</td>\n",
       "    </tr>\n",
       "    <tr>\n",
       "      <th>1</th>\n",
       "      <td>0</td>\n",
       "      <td>39.5</td>\n",
       "      <td>17.4</td>\n",
       "      <td>186.0</td>\n",
       "      <td>3800.0</td>\n",
       "      <td>0</td>\n",
       "      <td>0</td>\n",
       "      <td>1</td>\n",
       "      <td>1</td>\n",
       "      <td>0</td>\n",
       "    </tr>\n",
       "    <tr>\n",
       "      <th>2</th>\n",
       "      <td>0</td>\n",
       "      <td>40.3</td>\n",
       "      <td>18.0</td>\n",
       "      <td>195.0</td>\n",
       "      <td>3250.0</td>\n",
       "      <td>0</td>\n",
       "      <td>0</td>\n",
       "      <td>1</td>\n",
       "      <td>1</td>\n",
       "      <td>0</td>\n",
       "    </tr>\n",
       "    <tr>\n",
       "      <th>4</th>\n",
       "      <td>0</td>\n",
       "      <td>36.7</td>\n",
       "      <td>19.3</td>\n",
       "      <td>193.0</td>\n",
       "      <td>3450.0</td>\n",
       "      <td>0</td>\n",
       "      <td>0</td>\n",
       "      <td>1</td>\n",
       "      <td>1</td>\n",
       "      <td>0</td>\n",
       "    </tr>\n",
       "    <tr>\n",
       "      <th>5</th>\n",
       "      <td>0</td>\n",
       "      <td>39.3</td>\n",
       "      <td>20.6</td>\n",
       "      <td>190.0</td>\n",
       "      <td>3650.0</td>\n",
       "      <td>0</td>\n",
       "      <td>0</td>\n",
       "      <td>1</td>\n",
       "      <td>0</td>\n",
       "      <td>1</td>\n",
       "    </tr>\n",
       "  </tbody>\n",
       "</table>\n",
       "</div>"
      ],
      "text/plain": [
       "   species  bill_length_mm  bill_depth_mm  flipper_length_mm  body_mass_g  \\\n",
       "0        0            39.1           18.7              181.0       3750.0   \n",
       "1        0            39.5           17.4              186.0       3800.0   \n",
       "2        0            40.3           18.0              195.0       3250.0   \n",
       "4        0            36.7           19.3              193.0       3450.0   \n",
       "5        0            39.3           20.6              190.0       3650.0   \n",
       "\n",
       "   island_Biscoe  island_Dream  island_Torgersen  sex_female  sex_male  \n",
       "0              0             0                 1           0         1  \n",
       "1              0             0                 1           1         0  \n",
       "2              0             0                 1           1         0  \n",
       "4              0             0                 1           1         0  \n",
       "5              0             0                 1           0         1  "
      ]
     },
     "execution_count": 102,
     "metadata": {},
     "output_type": "execute_result"
    }
   ],
   "source": [
    "# encode categorical columns into individual number columns\n",
    "df_encoded = pd.get_dummies(df_cleaned, columns = ['island', 'sex'])\n",
    "# encode species column to numerical column\n",
    "speciesMap = {'Adelie':0, 'Chinstrap':1, 'Gentoo':2}\n",
    "df_encoded['species'].replace(speciesMap, inplace=True)\n",
    "# preview the data\n",
    "df_encoded.head()  "
   ]
  },
  {
   "cell_type": "markdown",
   "id": "bbcb619b",
   "metadata": {},
   "source": [
    "# Data Exploration\n",
    "\n",
    "\n",
    "### Basic Information\n",
    "Seen below is a brief overview of the layout of the data, including the data types, counts, and any null values"
   ]
  },
  {
   "cell_type": "code",
   "execution_count": 103,
   "id": "61c42f1d",
   "metadata": {},
   "outputs": [
    {
     "name": "stdout",
     "output_type": "stream",
     "text": [
      "<class 'pandas.core.frame.DataFrame'>\n",
      "Int64Index: 333 entries, 0 to 343\n",
      "Data columns (total 7 columns):\n",
      " #   Column             Non-Null Count  Dtype  \n",
      "---  ------             --------------  -----  \n",
      " 0   species            333 non-null    object \n",
      " 1   island             333 non-null    object \n",
      " 2   bill_length_mm     333 non-null    float64\n",
      " 3   bill_depth_mm      333 non-null    float64\n",
      " 4   flipper_length_mm  333 non-null    float64\n",
      " 5   body_mass_g        333 non-null    float64\n",
      " 6   sex                333 non-null    object \n",
      "dtypes: float64(4), object(3)\n",
      "memory usage: 20.8+ KB\n"
     ]
    }
   ],
   "source": [
    "df_cleaned.info()  # get an overview of the layout of the data"
   ]
  },
  {
   "cell_type": "markdown",
   "id": "a3b1bdde",
   "metadata": {},
   "source": [
    "### Statistics\n",
    "We can get a description of the data using basic statistics, which gives us an idea of the range of values of the data. The count also lets us confirm that there are no values missing after cleaning the data. "
   ]
  },
  {
   "cell_type": "code",
   "execution_count": 104,
   "id": "978fc415",
   "metadata": {},
   "outputs": [
    {
     "data": {
      "text/html": [
       "<div>\n",
       "<style scoped>\n",
       "    .dataframe tbody tr th:only-of-type {\n",
       "        vertical-align: middle;\n",
       "    }\n",
       "\n",
       "    .dataframe tbody tr th {\n",
       "        vertical-align: top;\n",
       "    }\n",
       "\n",
       "    .dataframe thead th {\n",
       "        text-align: right;\n",
       "    }\n",
       "</style>\n",
       "<table border=\"1\" class=\"dataframe\">\n",
       "  <thead>\n",
       "    <tr style=\"text-align: right;\">\n",
       "      <th></th>\n",
       "      <th>species</th>\n",
       "      <th>island</th>\n",
       "      <th>bill_length_mm</th>\n",
       "      <th>bill_depth_mm</th>\n",
       "      <th>flipper_length_mm</th>\n",
       "      <th>body_mass_g</th>\n",
       "      <th>sex</th>\n",
       "    </tr>\n",
       "  </thead>\n",
       "  <tbody>\n",
       "    <tr>\n",
       "      <th>count</th>\n",
       "      <td>333</td>\n",
       "      <td>333</td>\n",
       "      <td>333.000000</td>\n",
       "      <td>333.000000</td>\n",
       "      <td>333.000000</td>\n",
       "      <td>333.000000</td>\n",
       "      <td>333</td>\n",
       "    </tr>\n",
       "    <tr>\n",
       "      <th>unique</th>\n",
       "      <td>3</td>\n",
       "      <td>3</td>\n",
       "      <td>NaN</td>\n",
       "      <td>NaN</td>\n",
       "      <td>NaN</td>\n",
       "      <td>NaN</td>\n",
       "      <td>2</td>\n",
       "    </tr>\n",
       "    <tr>\n",
       "      <th>top</th>\n",
       "      <td>Adelie</td>\n",
       "      <td>Biscoe</td>\n",
       "      <td>NaN</td>\n",
       "      <td>NaN</td>\n",
       "      <td>NaN</td>\n",
       "      <td>NaN</td>\n",
       "      <td>male</td>\n",
       "    </tr>\n",
       "    <tr>\n",
       "      <th>freq</th>\n",
       "      <td>146</td>\n",
       "      <td>163</td>\n",
       "      <td>NaN</td>\n",
       "      <td>NaN</td>\n",
       "      <td>NaN</td>\n",
       "      <td>NaN</td>\n",
       "      <td>168</td>\n",
       "    </tr>\n",
       "    <tr>\n",
       "      <th>mean</th>\n",
       "      <td>NaN</td>\n",
       "      <td>NaN</td>\n",
       "      <td>43.992793</td>\n",
       "      <td>17.164865</td>\n",
       "      <td>200.966967</td>\n",
       "      <td>4207.057057</td>\n",
       "      <td>NaN</td>\n",
       "    </tr>\n",
       "    <tr>\n",
       "      <th>std</th>\n",
       "      <td>NaN</td>\n",
       "      <td>NaN</td>\n",
       "      <td>5.468668</td>\n",
       "      <td>1.969235</td>\n",
       "      <td>14.015765</td>\n",
       "      <td>805.215802</td>\n",
       "      <td>NaN</td>\n",
       "    </tr>\n",
       "    <tr>\n",
       "      <th>min</th>\n",
       "      <td>NaN</td>\n",
       "      <td>NaN</td>\n",
       "      <td>32.100000</td>\n",
       "      <td>13.100000</td>\n",
       "      <td>172.000000</td>\n",
       "      <td>2700.000000</td>\n",
       "      <td>NaN</td>\n",
       "    </tr>\n",
       "    <tr>\n",
       "      <th>25%</th>\n",
       "      <td>NaN</td>\n",
       "      <td>NaN</td>\n",
       "      <td>39.500000</td>\n",
       "      <td>15.600000</td>\n",
       "      <td>190.000000</td>\n",
       "      <td>3550.000000</td>\n",
       "      <td>NaN</td>\n",
       "    </tr>\n",
       "    <tr>\n",
       "      <th>50%</th>\n",
       "      <td>NaN</td>\n",
       "      <td>NaN</td>\n",
       "      <td>44.500000</td>\n",
       "      <td>17.300000</td>\n",
       "      <td>197.000000</td>\n",
       "      <td>4050.000000</td>\n",
       "      <td>NaN</td>\n",
       "    </tr>\n",
       "    <tr>\n",
       "      <th>75%</th>\n",
       "      <td>NaN</td>\n",
       "      <td>NaN</td>\n",
       "      <td>48.600000</td>\n",
       "      <td>18.700000</td>\n",
       "      <td>213.000000</td>\n",
       "      <td>4775.000000</td>\n",
       "      <td>NaN</td>\n",
       "    </tr>\n",
       "    <tr>\n",
       "      <th>max</th>\n",
       "      <td>NaN</td>\n",
       "      <td>NaN</td>\n",
       "      <td>59.600000</td>\n",
       "      <td>21.500000</td>\n",
       "      <td>231.000000</td>\n",
       "      <td>6300.000000</td>\n",
       "      <td>NaN</td>\n",
       "    </tr>\n",
       "  </tbody>\n",
       "</table>\n",
       "</div>"
      ],
      "text/plain": [
       "       species  island  bill_length_mm  bill_depth_mm  flipper_length_mm  \\\n",
       "count      333     333      333.000000     333.000000         333.000000   \n",
       "unique       3       3             NaN            NaN                NaN   \n",
       "top     Adelie  Biscoe             NaN            NaN                NaN   \n",
       "freq       146     163             NaN            NaN                NaN   \n",
       "mean       NaN     NaN       43.992793      17.164865         200.966967   \n",
       "std        NaN     NaN        5.468668       1.969235          14.015765   \n",
       "min        NaN     NaN       32.100000      13.100000         172.000000   \n",
       "25%        NaN     NaN       39.500000      15.600000         190.000000   \n",
       "50%        NaN     NaN       44.500000      17.300000         197.000000   \n",
       "75%        NaN     NaN       48.600000      18.700000         213.000000   \n",
       "max        NaN     NaN       59.600000      21.500000         231.000000   \n",
       "\n",
       "        body_mass_g   sex  \n",
       "count    333.000000   333  \n",
       "unique          NaN     2  \n",
       "top             NaN  male  \n",
       "freq            NaN   168  \n",
       "mean    4207.057057   NaN  \n",
       "std      805.215802   NaN  \n",
       "min     2700.000000   NaN  \n",
       "25%     3550.000000   NaN  \n",
       "50%     4050.000000   NaN  \n",
       "75%     4775.000000   NaN  \n",
       "max     6300.000000   NaN  "
      ]
     },
     "execution_count": 104,
     "metadata": {},
     "output_type": "execute_result"
    }
   ],
   "source": [
    "df_cleaned.describe(include=\"all\")  # get a summary of the dataframe"
   ]
  },
  {
   "cell_type": "markdown",
   "id": "49ae08b6",
   "metadata": {},
   "source": [
    "### Correlations\n",
    "This shows correlations between numerical fields in the data. As seen below our data is moderately correlated, which is to be expected, as the numerical data consists of anatomical measurements which are commonly used to distinguish between species of penguins. Based upon this observation, we decide to include these fields in our machine learning model."
   ]
  },
  {
   "cell_type": "code",
   "execution_count": 105,
   "id": "0643fd32",
   "metadata": {},
   "outputs": [
    {
     "data": {
      "text/html": [
       "<div>\n",
       "<style scoped>\n",
       "    .dataframe tbody tr th:only-of-type {\n",
       "        vertical-align: middle;\n",
       "    }\n",
       "\n",
       "    .dataframe tbody tr th {\n",
       "        vertical-align: top;\n",
       "    }\n",
       "\n",
       "    .dataframe thead th {\n",
       "        text-align: right;\n",
       "    }\n",
       "</style>\n",
       "<table border=\"1\" class=\"dataframe\">\n",
       "  <thead>\n",
       "    <tr style=\"text-align: right;\">\n",
       "      <th></th>\n",
       "      <th>species</th>\n",
       "      <th>bill_length_mm</th>\n",
       "      <th>bill_depth_mm</th>\n",
       "      <th>flipper_length_mm</th>\n",
       "      <th>body_mass_g</th>\n",
       "      <th>island_Biscoe</th>\n",
       "      <th>island_Dream</th>\n",
       "      <th>island_Torgersen</th>\n",
       "      <th>sex_female</th>\n",
       "      <th>sex_male</th>\n",
       "    </tr>\n",
       "  </thead>\n",
       "  <tbody>\n",
       "    <tr>\n",
       "      <th>species</th>\n",
       "      <td>1.000000</td>\n",
       "      <td>0.730548</td>\n",
       "      <td>-0.740346</td>\n",
       "      <td>0.850737</td>\n",
       "      <td>0.750434</td>\n",
       "      <td>0.596528</td>\n",
       "      <td>-0.315364</td>\n",
       "      <td>-0.419318</td>\n",
       "      <td>-0.010964</td>\n",
       "      <td>0.010964</td>\n",
       "    </tr>\n",
       "    <tr>\n",
       "      <th>bill_length_mm</th>\n",
       "      <td>0.730548</td>\n",
       "      <td>1.000000</td>\n",
       "      <td>-0.228626</td>\n",
       "      <td>0.653096</td>\n",
       "      <td>0.589451</td>\n",
       "      <td>0.225174</td>\n",
       "      <td>0.032118</td>\n",
       "      <td>-0.367821</td>\n",
       "      <td>-0.344078</td>\n",
       "      <td>0.344078</td>\n",
       "    </tr>\n",
       "    <tr>\n",
       "      <th>bill_depth_mm</th>\n",
       "      <td>-0.740346</td>\n",
       "      <td>-0.228626</td>\n",
       "      <td>1.000000</td>\n",
       "      <td>-0.577792</td>\n",
       "      <td>-0.472016</td>\n",
       "      <td>-0.626230</td>\n",
       "      <td>0.457326</td>\n",
       "      <td>0.265173</td>\n",
       "      <td>-0.372673</td>\n",
       "      <td>0.372673</td>\n",
       "    </tr>\n",
       "    <tr>\n",
       "      <th>flipper_length_mm</th>\n",
       "      <td>0.850737</td>\n",
       "      <td>0.653096</td>\n",
       "      <td>-0.577792</td>\n",
       "      <td>1.000000</td>\n",
       "      <td>0.872979</td>\n",
       "      <td>0.601126</td>\n",
       "      <td>-0.425459</td>\n",
       "      <td>-0.273304</td>\n",
       "      <td>-0.255169</td>\n",
       "      <td>0.255169</td>\n",
       "    </tr>\n",
       "    <tr>\n",
       "      <th>body_mass_g</th>\n",
       "      <td>0.750434</td>\n",
       "      <td>0.589451</td>\n",
       "      <td>-0.472016</td>\n",
       "      <td>0.872979</td>\n",
       "      <td>1.000000</td>\n",
       "      <td>0.623702</td>\n",
       "      <td>-0.464666</td>\n",
       "      <td>-0.251369</td>\n",
       "      <td>-0.424987</td>\n",
       "      <td>0.424987</td>\n",
       "    </tr>\n",
       "    <tr>\n",
       "      <th>island_Biscoe</th>\n",
       "      <td>0.596528</td>\n",
       "      <td>0.225174</td>\n",
       "      <td>-0.626230</td>\n",
       "      <td>0.601126</td>\n",
       "      <td>0.623702</td>\n",
       "      <td>1.000000</td>\n",
       "      <td>-0.749398</td>\n",
       "      <td>-0.396949</td>\n",
       "      <td>-0.009201</td>\n",
       "      <td>0.009201</td>\n",
       "    </tr>\n",
       "    <tr>\n",
       "      <th>island_Dream</th>\n",
       "      <td>-0.315364</td>\n",
       "      <td>0.032118</td>\n",
       "      <td>0.457326</td>\n",
       "      <td>-0.425459</td>\n",
       "      <td>-0.464666</td>\n",
       "      <td>-0.749398</td>\n",
       "      <td>1.000000</td>\n",
       "      <td>-0.310248</td>\n",
       "      <td>0.000673</td>\n",
       "      <td>-0.000673</td>\n",
       "    </tr>\n",
       "    <tr>\n",
       "      <th>island_Torgersen</th>\n",
       "      <td>-0.419318</td>\n",
       "      <td>-0.367821</td>\n",
       "      <td>0.265173</td>\n",
       "      <td>-0.273304</td>\n",
       "      <td>-0.251369</td>\n",
       "      <td>-0.396949</td>\n",
       "      <td>-0.310248</td>\n",
       "      <td>1.000000</td>\n",
       "      <td>0.012278</td>\n",
       "      <td>-0.012278</td>\n",
       "    </tr>\n",
       "    <tr>\n",
       "      <th>sex_female</th>\n",
       "      <td>-0.010964</td>\n",
       "      <td>-0.344078</td>\n",
       "      <td>-0.372673</td>\n",
       "      <td>-0.255169</td>\n",
       "      <td>-0.424987</td>\n",
       "      <td>-0.009201</td>\n",
       "      <td>0.000673</td>\n",
       "      <td>0.012278</td>\n",
       "      <td>1.000000</td>\n",
       "      <td>-1.000000</td>\n",
       "    </tr>\n",
       "    <tr>\n",
       "      <th>sex_male</th>\n",
       "      <td>0.010964</td>\n",
       "      <td>0.344078</td>\n",
       "      <td>0.372673</td>\n",
       "      <td>0.255169</td>\n",
       "      <td>0.424987</td>\n",
       "      <td>0.009201</td>\n",
       "      <td>-0.000673</td>\n",
       "      <td>-0.012278</td>\n",
       "      <td>-1.000000</td>\n",
       "      <td>1.000000</td>\n",
       "    </tr>\n",
       "  </tbody>\n",
       "</table>\n",
       "</div>"
      ],
      "text/plain": [
       "                    species  bill_length_mm  bill_depth_mm  flipper_length_mm  \\\n",
       "species            1.000000        0.730548      -0.740346           0.850737   \n",
       "bill_length_mm     0.730548        1.000000      -0.228626           0.653096   \n",
       "bill_depth_mm     -0.740346       -0.228626       1.000000          -0.577792   \n",
       "flipper_length_mm  0.850737        0.653096      -0.577792           1.000000   \n",
       "body_mass_g        0.750434        0.589451      -0.472016           0.872979   \n",
       "island_Biscoe      0.596528        0.225174      -0.626230           0.601126   \n",
       "island_Dream      -0.315364        0.032118       0.457326          -0.425459   \n",
       "island_Torgersen  -0.419318       -0.367821       0.265173          -0.273304   \n",
       "sex_female        -0.010964       -0.344078      -0.372673          -0.255169   \n",
       "sex_male           0.010964        0.344078       0.372673           0.255169   \n",
       "\n",
       "                   body_mass_g  island_Biscoe  island_Dream  island_Torgersen  \\\n",
       "species               0.750434       0.596528     -0.315364         -0.419318   \n",
       "bill_length_mm        0.589451       0.225174      0.032118         -0.367821   \n",
       "bill_depth_mm        -0.472016      -0.626230      0.457326          0.265173   \n",
       "flipper_length_mm     0.872979       0.601126     -0.425459         -0.273304   \n",
       "body_mass_g           1.000000       0.623702     -0.464666         -0.251369   \n",
       "island_Biscoe         0.623702       1.000000     -0.749398         -0.396949   \n",
       "island_Dream         -0.464666      -0.749398      1.000000         -0.310248   \n",
       "island_Torgersen     -0.251369      -0.396949     -0.310248          1.000000   \n",
       "sex_female           -0.424987      -0.009201      0.000673          0.012278   \n",
       "sex_male              0.424987       0.009201     -0.000673         -0.012278   \n",
       "\n",
       "                   sex_female  sex_male  \n",
       "species             -0.010964  0.010964  \n",
       "bill_length_mm      -0.344078  0.344078  \n",
       "bill_depth_mm       -0.372673  0.372673  \n",
       "flipper_length_mm   -0.255169  0.255169  \n",
       "body_mass_g         -0.424987  0.424987  \n",
       "island_Biscoe       -0.009201  0.009201  \n",
       "island_Dream         0.000673 -0.000673  \n",
       "island_Torgersen     0.012278 -0.012278  \n",
       "sex_female           1.000000 -1.000000  \n",
       "sex_male            -1.000000  1.000000  "
      ]
     },
     "execution_count": 105,
     "metadata": {},
     "output_type": "execute_result"
    }
   ],
   "source": [
    "corr = df_encoded.corr()\n",
    "corr"
   ]
  },
  {
   "cell_type": "markdown",
   "id": "fe826f10",
   "metadata": {},
   "source": [
    "### Visualizations\n",
    "We can create charts and graphs that allow us to get a better idea of the distribution of the data and potentially identify any correlations. In addition, visualizing the data will allow us to identify trends in non-numerical (categorical) data such as island and sex as they relate to species identification. We can make some generic assumptions based upon the scatterplot below:\n",
    "- Island is a fair predictor of species: any penguin found on Torgersen is an Adelie penguin, Gentoo penguins are not found on Dream island, etc.\n",
    "- Body Mass is a fair predictor of species: any penguin above ~5000g will be a Gentoo penguin, while any penguin below ~4000g will not be a Gentoo penguin\n",
    "\n",
    "Based upon these observations, we will include these variables in our machine learning model as well."
   ]
  },
  {
   "cell_type": "code",
   "execution_count": 106,
   "id": "87e47f1b",
   "metadata": {},
   "outputs": [
    {
     "data": {
      "image/png": "[encoded data removed]",
      "text/plain": [
       "<Figure size 617x500 with 1 Axes>"
      ]
     },
     "metadata": {},
     "output_type": "display_data"
    }
   ],
   "source": [
    "vis = sns.catplot(data=df_cleaned, x=\"island\", y=\"body_mass_g\", hue=\"species\", kind=\"swarm\")\n",
    "vis;"
   ]
  },
  {
   "cell_type": "markdown",
   "id": "f3478fa4",
   "metadata": {},
   "source": [
    "### Correlation Visual\n",
    "As seen in the below correlation heatmap, the data ranges from moderately to strongly correlated. The only noteworth relationships that have little/no correlation are species:sex and sex:island. In plain speak, a penguin's sex and species are not correlated, nor is a penguin's sex correlated to its island. However, because these data points have moderate correlations with other data types, we will not exclude them. "
   ]
  },
  {
   "cell_type": "code",
   "execution_count": 107,
   "id": "a4eefdea",
   "metadata": {},
   "outputs": [
    {
     "data": {
      "image/png": "[encoded data removed]",
      "text/plain": [
       "<Figure size 640x480 with 2 Axes>"
      ]
     },
     "metadata": {},
     "output_type": "display_data"
    }
   ],
   "source": [
    "sns.heatmap(corr);"
   ]
  },
  {
   "cell_type": "markdown",
   "id": "656701b4",
   "metadata": {},
   "source": [
    "### Exclusion\n",
    "As previously determined, we will be including all of the data in our data, so we do not have to process the dataframe to remove anything further. The only data that was excluded was the records with NaN/None/Null type data which were removed from the dataset during the Data Cleaning phase."
   ]
  },
  {
   "cell_type": "markdown",
   "id": "fb54972d",
   "metadata": {},
   "source": [
    "### Splitting\n",
    "The data is split into two distinct datasets; one for training the machine learning model, and one for testing the model."
   ]
  },
  {
   "cell_type": "code",
   "execution_count": 108,
   "id": "cc878932",
   "metadata": {},
   "outputs": [],
   "source": [
    "# isolate the dependant variabls from the independant variables\n",
    "X = df_encoded.drop(columns = ['species'])\n",
    "y = df_encoded['species']\n",
    "# split the dataset\n",
    "X_train, X_test, y_train, y_test = train_test_split(X, y, train_size=0.8, random_state=1)"
   ]
  },
  {
   "cell_type": "markdown",
   "id": "91fa45b9",
   "metadata": {},
   "source": [
    "# Modeling \n",
    "In this phase, the model will be trained using the training dataset and then evaluated for performance using the testing dataset"
   ]
  },
  {
   "cell_type": "markdown",
   "id": "b9a3e282",
   "metadata": {},
   "source": [
    "### Training\n",
    "We utilize the KNN algorithm (K-Nearest Neighbor) to train the model on the training dataset."
   ]
  },
  {
   "cell_type": "code",
   "execution_count": 109,
   "id": "29a12b2a",
   "metadata": {},
   "outputs": [],
   "source": [
    "KNN = KNeighborsClassifier()\n",
    "KNN.fit(X_train, y_train);"
   ]
  },
  {
   "cell_type": "markdown",
   "id": "ae62c745",
   "metadata": {},
   "source": [
    "### Evaluation\n",
    "The accuracy of the trained model is evaluated by applying it to the test dataset.\n",
    "The speed of the model is evaluated by dividing the # of records tested by the processing time and is measured in records/hour."
   ]
  },
  {
   "cell_type": "code",
   "execution_count": 110,
   "id": "52f6ffaa",
   "metadata": {},
   "outputs": [
    {
     "name": "stdout",
     "output_type": "stream",
     "text": [
      "Accuracy of model: 82.09%\n",
      "Speed of the model: 76629813 records/hour\n"
     ]
    }
   ],
   "source": [
    "# start a timer to measure processing time\n",
    "start = timer()\n",
    "# apply model to test data\n",
    "predict = KNN.predict(X_test)\n",
    "# measure accuracy of result\n",
    "result = (accuracy_score(y_test, predict))\n",
    "# end timer\n",
    "end = timer()\n",
    "\n",
    "# get confusion matrix\n",
    "cf_matrix = confusion_matrix(y_test,predict)\n",
    "\n",
    "# convert time in seconds to hours\n",
    "hours = (end-start) / 3600\n",
    "records = len(X_test.index)\n",
    "speed = records / hours\n",
    "\n",
    "print(\"Accuracy of model: \" + percent.format(result))\n",
    "print(\"Speed of the model: \" + rate.format(speed) + \" records/hour\")"
   ]
  },
  {
   "cell_type": "markdown",
   "id": "820be497",
   "metadata": {},
   "source": [
    "**Based on the above metrics, the model can be descriped as exceeding the objective of the model, as it performs with >50% accuracy and >100 records/hour.**"
   ]
  },
  {
   "cell_type": "markdown",
   "id": "da0b8a86",
   "metadata": {},
   "source": [
    "### Visualize Prediction\n",
    "The below heatmap highlights the performance of the predictive model. The axis labels of 0, 1, and 2 correspond to species Adelie, Chinstrap, and Gentoo respectively.\n",
    "\n",
    "As seen from the heatmap, the model correctly predicts Adelie and Gentoo penguins the majority of the time but has more trouble accurately predicting Chinstrap penguins."
   ]
  },
  {
   "cell_type": "code",
   "execution_count": 111,
   "id": "9b93f4c1",
   "metadata": {},
   "outputs": [
    {
     "data": {
      "image/png": "[encoded data removed]",
      "text/plain": [
       "<Figure size 640x480 with 2 Axes>"
      ]
     },
     "metadata": {},
     "output_type": "display_data"
    }
   ],
   "source": [
    "ax = sns.heatmap(cf_matrix, annot=True, cmap='Greens')\n",
    "plt.title('Species Prediction Results', fontsize = 20)\n",
    "plt.xlabel('Predicted Species', fontsize = 15)\n",
    "plt.ylabel('Actual Species', fontsize = 15);\n"
   ]
  },
  {
   "cell_type": "markdown",
   "id": "686e9a58",
   "metadata": {},
   "source": [
    "# PENGUIN SPECIES PREDICTION\n",
    "Using our trained machine model, we can predict the species of a penguin given a distinct user input. \n",
    "#### Adjust the information below to make a prediction of species. The prediction is adjusted in real time as the data is adjusted!\n"
   ]
  },
  {
   "cell_type": "code",
   "execution_count": 112,
   "id": "f383f636",
   "metadata": {},
   "outputs": [],
   "source": [
    "# predict the species using the MLM\n",
    "def predict_species(island, bill_length, bill_depth, flipper_length, body_mass, sex):\n",
    "    is_biscoe = 0\n",
    "    is_dream = 0\n",
    "    is_torg = 0\n",
    "    is_male = 0\n",
    "    is_female = 0;\n",
    "    \n",
    "    # parse island selection\n",
    "    if (island == \"Biscoe\"):\n",
    "        is_biscoe = 1\n",
    "    elif (island == \"Dream\"):\n",
    "        is_dream = 1\n",
    "    else:\n",
    "        is_torg = 1\n",
    "        \n",
    "    # parse sex selection\n",
    "    if (sex == \"Male\"):\n",
    "        is_male = 1\n",
    "    else:\n",
    "        is_female = 1\n",
    "        \n",
    "    # model_input = [bill_length_mm, bill_depth_mm, flipper_length_mm, body_mass_g, island_Biscoe, island_Dream, island_Torgersen, sex_female, sex_male]\n",
    "    penguin = np.array([[bill_length, bill_depth, flipper_length, body_mass, is_biscoe, is_dream, is_torg, is_female, is_male]])\n",
    "    # predict using model - returns {0, 1, or 2}\n",
    "    prediction = KNN.predict(penguin)\n",
    "    speciesDict = {0:'Adelie', 1:'Chinstrap', 2:'Gentoo'}\n",
    "    species = speciesDict[prediction[0]]\n",
    "    \n",
    "    # print output\n",
    "    print(\"Penguin Species: \" + species)\n",
    "    return"
   ]
  },
  {
   "cell_type": "code",
   "execution_count": 113,
   "id": "c6b3fef8",
   "metadata": {
    "scrolled": true
   },
   "outputs": [
    {
     "data": {
      "application/vnd.jupyter.widget-view+json": {
       "model_id": "468cc39a1f584c938ba084dc278a5a61",
       "version_major": 2,
       "version_minor": 0
      },
      "text/plain": [
       "interactive(children=(Dropdown(description='Island', options=('Biscoe', 'Dream', 'Torgersen'), value='Biscoe')…"
      ]
     },
     "metadata": {},
     "output_type": "display_data"
    }
   ],
   "source": [
    "# this creates the GUI\n",
    "# It parses user input gathered from widgets and gives input to the model\n",
    "# It then outputs the prediction from the model in real time\n",
    "widgets.interact(\n",
    "                predict_species,\n",
    "    \n",
    "                island = widgets.Dropdown(description=\"Island\",options=[\"Biscoe\", \"Dream\", \"Torgersen\"]),\n",
    "                bill_length = widgets.FloatSlider(\n",
    "                    min=df_cleaned[\"bill_length_mm\"].min(),\n",
    "                    max=df_cleaned[\"bill_length_mm\"].max(),\n",
    "                    step=0.01,\n",
    "                    value=df_cleaned[\"bill_length_mm\"].mean(),\n",
    "                    description=\"Bill Length (mm)\"\n",
    "                ),\n",
    "                bill_depth = widgets.FloatSlider(\n",
    "                    min=df_cleaned[\"bill_depth_mm\"].min(),\n",
    "                    max=df_cleaned[\"bill_depth_mm\"].max(),\n",
    "                    step=0.01,\n",
    "                    value=df_cleaned[\"bill_depth_mm\"].mean(),\n",
    "                    description=\"Bill Depth (mm)\"\n",
    "                ),\n",
    "                flipper_length = widgets.FloatSlider(\n",
    "                    min=df_cleaned[\"flipper_length_mm\"].min(),\n",
    "                    max=df_cleaned[\"flipper_length_mm\"].max(),\n",
    "                    step=0.01,\n",
    "                    value=df_cleaned[\"flipper_length_mm\"].mean(),\n",
    "                    description=\"Flipper Length (mm)\"\n",
    "                ),\n",
    "                body_mass = widgets.IntSlider(\n",
    "                    min=df_cleaned[\"body_mass_g\"].min(),\n",
    "                    max=df_cleaned[\"body_mass_g\"].max(),\n",
    "                    value=df_cleaned[\"body_mass_g\"].mean(),\n",
    "                    description=\"Body Mass (g)\"\n",
    "                ),\n",
    "                sex = widgets.Dropdown(description=\"Sex\",options=[\"Female\", \"Male\"])\n",
    "            );"
   ]
  },
  {
   "cell_type": "code",
   "execution_count": null,
   "id": "4499b681",
   "metadata": {},
   "outputs": [],
   "source": []
  }
 ],
 "metadata": {
  "kernelspec": {
   "display_name": "Python 3 (ipykernel)",
   "language": "python",
   "name": "python3"
  },
  "language_info": {
   "codemirror_mode": {
    "name": "ipython",
    "version": 3
   },
   "file_extension": ".py",
   "mimetype": "text/x-python",
   "name": "python",
   "nbconvert_exporter": "python",
   "pygments_lexer": "ipython3",
   "version": "3.9.13"
  }
 },
 "nbformat": 4,
 "nbformat_minor": 5
}
